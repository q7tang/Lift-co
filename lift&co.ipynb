{
 "cells": [
  {
   "cell_type": "code",
   "execution_count": 7,
   "metadata": {},
   "outputs": [],
   "source": [
    "import pymysql"
   ]
  },
  {
   "cell_type": "code",
   "execution_count": 288,
   "metadata": {},
   "outputs": [],
   "source": [
    "#Connect Python to Yelp database in Mysql\n",
    "\n",
    "import pandas as pd\n",
    "db = pymysql.connect(\"localhost\",\"root\",\"qyt007\",\"Yelp\")\n",
    "df_b = pd.read_sql('SELECT * FROM business', db)\n",
    "df_r = pd.read_sql('SELECT * FROM review', db)\n",
    "df_u = pd.read_sql('SELECT * FROM user', db)\n",
    "df_t = pd.read_sql('SELECT * FROM tip', db)\n",
    "df_c = pd.read_sql('SELECT * FROM checkin', db)\n"
   ]
  },
  {
   "cell_type": "code",
   "execution_count": 271,
   "metadata": {},
   "outputs": [
    {
     "data": {
      "text/html": [
       "<div>\n",
       "<style scoped>\n",
       "    .dataframe tbody tr th:only-of-type {\n",
       "        vertical-align: middle;\n",
       "    }\n",
       "\n",
       "    .dataframe tbody tr th {\n",
       "        vertical-align: top;\n",
       "    }\n",
       "\n",
       "    .dataframe thead th {\n",
       "        text-align: right;\n",
       "    }\n",
       "</style>\n",
       "<table border=\"1\" class=\"dataframe\">\n",
       "  <thead>\n",
       "    <tr style=\"text-align: right;\">\n",
       "      <th></th>\n",
       "      <th>funny</th>\n",
       "      <th>user_id</th>\n",
       "      <th>review_id</th>\n",
       "      <th>text</th>\n",
       "      <th>business_id</th>\n",
       "      <th>stars</th>\n",
       "      <th>date</th>\n",
       "      <th>useful</th>\n",
       "      <th>cool</th>\n",
       "    </tr>\n",
       "  </thead>\n",
       "  <tbody>\n",
       "    <tr>\n",
       "      <th>0</th>\n",
       "      <td>0</td>\n",
       "      <td>msQe1u7Z_XuqjGoqhB0J5g</td>\n",
       "      <td>x7mDIiDB3jEiPGPHOmDzyw</td>\n",
       "      <td>The pizza was okay. Not the best I've had. I p...</td>\n",
       "      <td>iCQpiavjjPzJ5_3gPD5Ebg</td>\n",
       "      <td>2</td>\n",
       "      <td>2011-02-25</td>\n",
       "      <td>0</td>\n",
       "      <td>0</td>\n",
       "    </tr>\n",
       "    <tr>\n",
       "      <th>1</th>\n",
       "      <td>0</td>\n",
       "      <td>msQe1u7Z_XuqjGoqhB0J5g</td>\n",
       "      <td>dDl8zu1vWPdKGihJrwQbpw</td>\n",
       "      <td>I love this place! My fiance And I go here atl...</td>\n",
       "      <td>pomGBqfbxcqPv14c3XH-ZQ</td>\n",
       "      <td>5</td>\n",
       "      <td>2012-11-13</td>\n",
       "      <td>0</td>\n",
       "      <td>0</td>\n",
       "    </tr>\n",
       "    <tr>\n",
       "      <th>2</th>\n",
       "      <td>1</td>\n",
       "      <td>msQe1u7Z_XuqjGoqhB0J5g</td>\n",
       "      <td>LZp4UX5zK3e-c5ZGSeo3kA</td>\n",
       "      <td>Terrible. Dry corn bread. Rib tips were all fa...</td>\n",
       "      <td>jtQARsP6P-LbkyjbO1qNGg</td>\n",
       "      <td>1</td>\n",
       "      <td>2014-10-23</td>\n",
       "      <td>3</td>\n",
       "      <td>1</td>\n",
       "    </tr>\n",
       "    <tr>\n",
       "      <th>3</th>\n",
       "      <td>0</td>\n",
       "      <td>msQe1u7Z_XuqjGoqhB0J5g</td>\n",
       "      <td>Er4NBWCmCD4nM8_p1GRdow</td>\n",
       "      <td>Back in 2005-2007 this place was my FAVORITE t...</td>\n",
       "      <td>elqbBhBfElMNSrjFqW3now</td>\n",
       "      <td>2</td>\n",
       "      <td>2011-02-25</td>\n",
       "      <td>2</td>\n",
       "      <td>0</td>\n",
       "    </tr>\n",
       "    <tr>\n",
       "      <th>4</th>\n",
       "      <td>0</td>\n",
       "      <td>msQe1u7Z_XuqjGoqhB0J5g</td>\n",
       "      <td>jsDu6QEJHbwP2Blom1PLCA</td>\n",
       "      <td>Delicious healthy food. The steak is amazing. ...</td>\n",
       "      <td>Ums3gaP2qM3W1XcA5r6SsQ</td>\n",
       "      <td>5</td>\n",
       "      <td>2014-09-05</td>\n",
       "      <td>0</td>\n",
       "      <td>0</td>\n",
       "    </tr>\n",
       "  </tbody>\n",
       "</table>\n",
       "</div>"
      ],
      "text/plain": [
       "   funny                 user_id               review_id  \\\n",
       "0      0  msQe1u7Z_XuqjGoqhB0J5g  x7mDIiDB3jEiPGPHOmDzyw   \n",
       "1      0  msQe1u7Z_XuqjGoqhB0J5g  dDl8zu1vWPdKGihJrwQbpw   \n",
       "2      1  msQe1u7Z_XuqjGoqhB0J5g  LZp4UX5zK3e-c5ZGSeo3kA   \n",
       "3      0  msQe1u7Z_XuqjGoqhB0J5g  Er4NBWCmCD4nM8_p1GRdow   \n",
       "4      0  msQe1u7Z_XuqjGoqhB0J5g  jsDu6QEJHbwP2Blom1PLCA   \n",
       "\n",
       "                                                text             business_id  \\\n",
       "0  The pizza was okay. Not the best I've had. I p...  iCQpiavjjPzJ5_3gPD5Ebg   \n",
       "1  I love this place! My fiance And I go here atl...  pomGBqfbxcqPv14c3XH-ZQ   \n",
       "2  Terrible. Dry corn bread. Rib tips were all fa...  jtQARsP6P-LbkyjbO1qNGg   \n",
       "3  Back in 2005-2007 this place was my FAVORITE t...  elqbBhBfElMNSrjFqW3now   \n",
       "4  Delicious healthy food. The steak is amazing. ...  Ums3gaP2qM3W1XcA5r6SsQ   \n",
       "\n",
       "   stars        date  useful  cool  \n",
       "0      2  2011-02-25       0     0  \n",
       "1      5  2012-11-13       0     0  \n",
       "2      1  2014-10-23       3     1  \n",
       "3      2  2011-02-25       2     0  \n",
       "4      5  2014-09-05       0     0  "
      ]
     },
     "execution_count": 271,
     "metadata": {},
     "output_type": "execute_result"
    }
   ],
   "source": [
    "#The review table\n",
    "\n",
    "df_r.drop_duplicates('review_id',keep='first',inplace=True)\n",
    "df_r.head()"
   ]
  },
  {
   "cell_type": "code",
   "execution_count": 289,
   "metadata": {},
   "outputs": [
    {
     "data": {
      "text/html": [
       "<div>\n",
       "<style scoped>\n",
       "    .dataframe tbody tr th:only-of-type {\n",
       "        vertical-align: middle;\n",
       "    }\n",
       "\n",
       "    .dataframe tbody tr th {\n",
       "        vertical-align: top;\n",
       "    }\n",
       "\n",
       "    .dataframe thead th {\n",
       "        text-align: right;\n",
       "    }\n",
       "</style>\n",
       "<table border=\"1\" class=\"dataframe\">\n",
       "  <thead>\n",
       "    <tr style=\"text-align: right;\">\n",
       "      <th></th>\n",
       "      <th>business_id</th>\n",
       "      <th>city</th>\n",
       "      <th>neighborhood</th>\n",
       "      <th>name</th>\n",
       "      <th>longitude</th>\n",
       "      <th>state</th>\n",
       "      <th>postal_code</th>\n",
       "      <th>categories</th>\n",
       "      <th>stars</th>\n",
       "      <th>address</th>\n",
       "      <th>latitude</th>\n",
       "      <th>review_count</th>\n",
       "      <th>is_open</th>\n",
       "    </tr>\n",
       "  </thead>\n",
       "  <tbody>\n",
       "    <tr>\n",
       "      <th>0</th>\n",
       "      <td>Apn5Q_b6Nz61Tq4XzPdf9A</td>\n",
       "      <td>Calgary</td>\n",
       "      <td></td>\n",
       "      <td>Minhas Micro Brewery</td>\n",
       "      <td>-114.031675</td>\n",
       "      <td>AB</td>\n",
       "      <td>T2E 6L6</td>\n",
       "      <td>Tours Breweries Pizza Restaurants Food Hotels ...</td>\n",
       "      <td>4.0</td>\n",
       "      <td>1314 44 Avenue NE</td>\n",
       "      <td>51.091813</td>\n",
       "      <td>24</td>\n",
       "      <td>1</td>\n",
       "    </tr>\n",
       "    <tr>\n",
       "      <th>1</th>\n",
       "      <td>AjEbIBw6ZFfln7ePHha9PA</td>\n",
       "      <td>Henderson</td>\n",
       "      <td></td>\n",
       "      <td>CK'S BBQ &amp; Catering</td>\n",
       "      <td>-114.939821</td>\n",
       "      <td>NV</td>\n",
       "      <td>89002</td>\n",
       "      <td>Chicken Wings Burgers Caterers Street Vendors ...</td>\n",
       "      <td>4.5</td>\n",
       "      <td></td>\n",
       "      <td>35.960734</td>\n",
       "      <td>3</td>\n",
       "      <td>0</td>\n",
       "    </tr>\n",
       "    <tr>\n",
       "      <th>2</th>\n",
       "      <td>O8S5hYJ1SMc8fA4QBtVujA</td>\n",
       "      <td>Montral</td>\n",
       "      <td>Rosemont-La Petite-Patrie</td>\n",
       "      <td>La Bastringue</td>\n",
       "      <td>-73.599300</td>\n",
       "      <td>QC</td>\n",
       "      <td>H2G 1K7</td>\n",
       "      <td>Breakfast &amp; Brunch Restaurants French Sandwich...</td>\n",
       "      <td>4.0</td>\n",
       "      <td>1335 rue Beaubien E</td>\n",
       "      <td>45.540503</td>\n",
       "      <td>5</td>\n",
       "      <td>0</td>\n",
       "    </tr>\n",
       "    <tr>\n",
       "      <th>3</th>\n",
       "      <td>bFzdJJ3wp3PZssNEsyU23g</td>\n",
       "      <td>Phoenix</td>\n",
       "      <td></td>\n",
       "      <td>Geico Insurance</td>\n",
       "      <td>-112.076979</td>\n",
       "      <td>AZ</td>\n",
       "      <td>85003</td>\n",
       "      <td>Insurance Financial Services</td>\n",
       "      <td>1.5</td>\n",
       "      <td>211 W Monroe St</td>\n",
       "      <td>33.449999</td>\n",
       "      <td>8</td>\n",
       "      <td>1</td>\n",
       "    </tr>\n",
       "    <tr>\n",
       "      <th>4</th>\n",
       "      <td>8USyCYqpScwiNEb58Bt6CA</td>\n",
       "      <td>Calgary</td>\n",
       "      <td></td>\n",
       "      <td>Action Engine</td>\n",
       "      <td>-114.027366</td>\n",
       "      <td>AB</td>\n",
       "      <td>T2H 0N5</td>\n",
       "      <td>Home &amp; Garden Nurseries &amp; Gardening Shopping L...</td>\n",
       "      <td>2.0</td>\n",
       "      <td>2005 Alyth Place SE</td>\n",
       "      <td>51.035591</td>\n",
       "      <td>4</td>\n",
       "      <td>1</td>\n",
       "    </tr>\n",
       "  </tbody>\n",
       "</table>\n",
       "</div>"
      ],
      "text/plain": [
       "              business_id       city               neighborhood  \\\n",
       "0  Apn5Q_b6Nz61Tq4XzPdf9A    Calgary                              \n",
       "1  AjEbIBw6ZFfln7ePHha9PA  Henderson                              \n",
       "2  O8S5hYJ1SMc8fA4QBtVujA    Montral  Rosemont-La Petite-Patrie   \n",
       "3  bFzdJJ3wp3PZssNEsyU23g    Phoenix                              \n",
       "4  8USyCYqpScwiNEb58Bt6CA    Calgary                              \n",
       "\n",
       "                   name   longitude state postal_code  \\\n",
       "0  Minhas Micro Brewery -114.031675    AB     T2E 6L6   \n",
       "1   CK'S BBQ & Catering -114.939821    NV       89002   \n",
       "2         La Bastringue  -73.599300    QC     H2G 1K7   \n",
       "3       Geico Insurance -112.076979    AZ       85003   \n",
       "4         Action Engine -114.027366    AB     T2H 0N5   \n",
       "\n",
       "                                          categories  stars  \\\n",
       "0  Tours Breweries Pizza Restaurants Food Hotels ...    4.0   \n",
       "1  Chicken Wings Burgers Caterers Street Vendors ...    4.5   \n",
       "2  Breakfast & Brunch Restaurants French Sandwich...    4.0   \n",
       "3                       Insurance Financial Services    1.5   \n",
       "4  Home & Garden Nurseries & Gardening Shopping L...    2.0   \n",
       "\n",
       "               address   latitude  review_count  is_open  \n",
       "0    1314 44 Avenue NE  51.091813            24        1  \n",
       "1                       35.960734             3        0  \n",
       "2  1335 rue Beaubien E  45.540503             5        0  \n",
       "3      211 W Monroe St  33.449999             8        1  \n",
       "4  2005 Alyth Place SE  51.035591             4        1  "
      ]
     },
     "execution_count": 289,
     "metadata": {},
     "output_type": "execute_result"
    }
   ],
   "source": [
    "#The business table\n",
    "\n",
    "df_b.drop_duplicates('business_id',keep='first',inplace=True)\n",
    "df_b.head()"
   ]
  },
  {
   "cell_type": "code",
   "execution_count": 290,
   "metadata": {},
   "outputs": [],
   "source": [
    "#Join review and business dataframes on 'business_id'\n",
    "\n",
    "df_r_b = pd.merge(df_r, df_b, on ='business_id')"
   ]
  },
  {
   "cell_type": "code",
   "execution_count": 291,
   "metadata": {},
   "outputs": [
    {
     "data": {
      "text/html": [
       "<div>\n",
       "<style scoped>\n",
       "    .dataframe tbody tr th:only-of-type {\n",
       "        vertical-align: middle;\n",
       "    }\n",
       "\n",
       "    .dataframe tbody tr th {\n",
       "        vertical-align: top;\n",
       "    }\n",
       "\n",
       "    .dataframe thead th {\n",
       "        text-align: right;\n",
       "    }\n",
       "</style>\n",
       "<table border=\"1\" class=\"dataframe\">\n",
       "  <thead>\n",
       "    <tr style=\"text-align: right;\">\n",
       "      <th></th>\n",
       "      <th>funny</th>\n",
       "      <th>user_id</th>\n",
       "      <th>review_id</th>\n",
       "      <th>text</th>\n",
       "      <th>business_id</th>\n",
       "      <th>stars_x</th>\n",
       "      <th>date</th>\n",
       "      <th>useful</th>\n",
       "      <th>cool</th>\n",
       "      <th>city</th>\n",
       "      <th>...</th>\n",
       "      <th>name</th>\n",
       "      <th>longitude</th>\n",
       "      <th>state</th>\n",
       "      <th>postal_code</th>\n",
       "      <th>categories</th>\n",
       "      <th>stars_y</th>\n",
       "      <th>address</th>\n",
       "      <th>latitude</th>\n",
       "      <th>review_count</th>\n",
       "      <th>is_open</th>\n",
       "    </tr>\n",
       "  </thead>\n",
       "  <tbody>\n",
       "    <tr>\n",
       "      <th>0</th>\n",
       "      <td>0</td>\n",
       "      <td>msQe1u7Z_XuqjGoqhB0J5g</td>\n",
       "      <td>dDl8zu1vWPdKGihJrwQbpw</td>\n",
       "      <td>I love this place! My fiance And I go here atl...</td>\n",
       "      <td>pomGBqfbxcqPv14c3XH-ZQ</td>\n",
       "      <td>5</td>\n",
       "      <td>2012-11-13</td>\n",
       "      <td>0</td>\n",
       "      <td>0</td>\n",
       "      <td>Las Vegas</td>\n",
       "      <td>...</td>\n",
       "      <td>Leticia's Mexican Cocina</td>\n",
       "      <td>-115.280088</td>\n",
       "      <td>NV</td>\n",
       "      <td>89143</td>\n",
       "      <td>Restaurants Mexican Bars Nightlife</td>\n",
       "      <td>4.0</td>\n",
       "      <td>7585 Norman Rockwell Ln Bldg 1</td>\n",
       "      <td>36.298875</td>\n",
       "      <td>1125</td>\n",
       "      <td>1</td>\n",
       "    </tr>\n",
       "    <tr>\n",
       "      <th>1</th>\n",
       "      <td>0</td>\n",
       "      <td>xJU_8kB-QVdK-_BOotvi9Q</td>\n",
       "      <td>wkpqXCNE3heeD-uexZ1NaA</td>\n",
       "      <td>My fiance and I decided to check this place ou...</td>\n",
       "      <td>pomGBqfbxcqPv14c3XH-ZQ</td>\n",
       "      <td>2</td>\n",
       "      <td>2016-11-04</td>\n",
       "      <td>0</td>\n",
       "      <td>0</td>\n",
       "      <td>Las Vegas</td>\n",
       "      <td>...</td>\n",
       "      <td>Leticia's Mexican Cocina</td>\n",
       "      <td>-115.280088</td>\n",
       "      <td>NV</td>\n",
       "      <td>89143</td>\n",
       "      <td>Restaurants Mexican Bars Nightlife</td>\n",
       "      <td>4.0</td>\n",
       "      <td>7585 Norman Rockwell Ln Bldg 1</td>\n",
       "      <td>36.298875</td>\n",
       "      <td>1125</td>\n",
       "      <td>1</td>\n",
       "    </tr>\n",
       "    <tr>\n",
       "      <th>2</th>\n",
       "      <td>0</td>\n",
       "      <td>cdFB_a_ZXF7qGVKP2mYikA</td>\n",
       "      <td>FXt7F4e-ncrq5pYstUVwxw</td>\n",
       "      <td>\"We were really looking forward to liking this...</td>\n",
       "      <td>pomGBqfbxcqPv14c3XH-ZQ</td>\n",
       "      <td>1</td>\n",
       "      <td>2011-08-10</td>\n",
       "      <td>0</td>\n",
       "      <td>0</td>\n",
       "      <td>Las Vegas</td>\n",
       "      <td>...</td>\n",
       "      <td>Leticia's Mexican Cocina</td>\n",
       "      <td>-115.280088</td>\n",
       "      <td>NV</td>\n",
       "      <td>89143</td>\n",
       "      <td>Restaurants Mexican Bars Nightlife</td>\n",
       "      <td>4.0</td>\n",
       "      <td>7585 Norman Rockwell Ln Bldg 1</td>\n",
       "      <td>36.298875</td>\n",
       "      <td>1125</td>\n",
       "      <td>1</td>\n",
       "    </tr>\n",
       "    <tr>\n",
       "      <th>3</th>\n",
       "      <td>0</td>\n",
       "      <td>ZdUFyF5eNyZxete-T4bmZA</td>\n",
       "      <td>gzG_aKOfpspNELvX4Msy6w</td>\n",
       "      <td>\"This was our \"\"go to\"\" Mexican spot for the l...</td>\n",
       "      <td>pomGBqfbxcqPv14c3XH-ZQ</td>\n",
       "      <td>2</td>\n",
       "      <td>2014-06-04</td>\n",
       "      <td>4</td>\n",
       "      <td>1</td>\n",
       "      <td>Las Vegas</td>\n",
       "      <td>...</td>\n",
       "      <td>Leticia's Mexican Cocina</td>\n",
       "      <td>-115.280088</td>\n",
       "      <td>NV</td>\n",
       "      <td>89143</td>\n",
       "      <td>Restaurants Mexican Bars Nightlife</td>\n",
       "      <td>4.0</td>\n",
       "      <td>7585 Norman Rockwell Ln Bldg 1</td>\n",
       "      <td>36.298875</td>\n",
       "      <td>1125</td>\n",
       "      <td>1</td>\n",
       "    </tr>\n",
       "    <tr>\n",
       "      <th>4</th>\n",
       "      <td>0</td>\n",
       "      <td>jEBySjq6tgL-_R3P7LHq0w</td>\n",
       "      <td>avx1RLsFHu8Z5M4HVWBRzg</td>\n",
       "      <td>If you love Mexican food I totally recommend t...</td>\n",
       "      <td>pomGBqfbxcqPv14c3XH-ZQ</td>\n",
       "      <td>4</td>\n",
       "      <td>2011-08-10</td>\n",
       "      <td>2</td>\n",
       "      <td>0</td>\n",
       "      <td>Las Vegas</td>\n",
       "      <td>...</td>\n",
       "      <td>Leticia's Mexican Cocina</td>\n",
       "      <td>-115.280088</td>\n",
       "      <td>NV</td>\n",
       "      <td>89143</td>\n",
       "      <td>Restaurants Mexican Bars Nightlife</td>\n",
       "      <td>4.0</td>\n",
       "      <td>7585 Norman Rockwell Ln Bldg 1</td>\n",
       "      <td>36.298875</td>\n",
       "      <td>1125</td>\n",
       "      <td>1</td>\n",
       "    </tr>\n",
       "  </tbody>\n",
       "</table>\n",
       "<p>5 rows × 21 columns</p>\n",
       "</div>"
      ],
      "text/plain": [
       "   funny                 user_id               review_id  \\\n",
       "0      0  msQe1u7Z_XuqjGoqhB0J5g  dDl8zu1vWPdKGihJrwQbpw   \n",
       "1      0  xJU_8kB-QVdK-_BOotvi9Q  wkpqXCNE3heeD-uexZ1NaA   \n",
       "2      0  cdFB_a_ZXF7qGVKP2mYikA  FXt7F4e-ncrq5pYstUVwxw   \n",
       "3      0  ZdUFyF5eNyZxete-T4bmZA  gzG_aKOfpspNELvX4Msy6w   \n",
       "4      0  jEBySjq6tgL-_R3P7LHq0w  avx1RLsFHu8Z5M4HVWBRzg   \n",
       "\n",
       "                                                text             business_id  \\\n",
       "0  I love this place! My fiance And I go here atl...  pomGBqfbxcqPv14c3XH-ZQ   \n",
       "1  My fiance and I decided to check this place ou...  pomGBqfbxcqPv14c3XH-ZQ   \n",
       "2  \"We were really looking forward to liking this...  pomGBqfbxcqPv14c3XH-ZQ   \n",
       "3  \"This was our \"\"go to\"\" Mexican spot for the l...  pomGBqfbxcqPv14c3XH-ZQ   \n",
       "4  If you love Mexican food I totally recommend t...  pomGBqfbxcqPv14c3XH-ZQ   \n",
       "\n",
       "   stars_x        date  useful  cool       city   ...     \\\n",
       "0        5  2012-11-13       0     0  Las Vegas   ...      \n",
       "1        2  2016-11-04       0     0  Las Vegas   ...      \n",
       "2        1  2011-08-10       0     0  Las Vegas   ...      \n",
       "3        2  2014-06-04       4     1  Las Vegas   ...      \n",
       "4        4  2011-08-10       2     0  Las Vegas   ...      \n",
       "\n",
       "                       name   longitude  state postal_code  \\\n",
       "0  Leticia's Mexican Cocina -115.280088     NV       89143   \n",
       "1  Leticia's Mexican Cocina -115.280088     NV       89143   \n",
       "2  Leticia's Mexican Cocina -115.280088     NV       89143   \n",
       "3  Leticia's Mexican Cocina -115.280088     NV       89143   \n",
       "4  Leticia's Mexican Cocina -115.280088     NV       89143   \n",
       "\n",
       "                           categories stars_y                         address  \\\n",
       "0  Restaurants Mexican Bars Nightlife     4.0  7585 Norman Rockwell Ln Bldg 1   \n",
       "1  Restaurants Mexican Bars Nightlife     4.0  7585 Norman Rockwell Ln Bldg 1   \n",
       "2  Restaurants Mexican Bars Nightlife     4.0  7585 Norman Rockwell Ln Bldg 1   \n",
       "3  Restaurants Mexican Bars Nightlife     4.0  7585 Norman Rockwell Ln Bldg 1   \n",
       "4  Restaurants Mexican Bars Nightlife     4.0  7585 Norman Rockwell Ln Bldg 1   \n",
       "\n",
       "    latitude  review_count  is_open  \n",
       "0  36.298875          1125        1  \n",
       "1  36.298875          1125        1  \n",
       "2  36.298875          1125        1  \n",
       "3  36.298875          1125        1  \n",
       "4  36.298875          1125        1  \n",
       "\n",
       "[5 rows x 21 columns]"
      ]
     },
     "execution_count": 291,
     "metadata": {},
     "output_type": "execute_result"
    }
   ],
   "source": [
    "df_r_b.head()"
   ]
  },
  {
   "cell_type": "code",
   "execution_count": 275,
   "metadata": {},
   "outputs": [],
   "source": [
    "#3. How many Canadian residents reviewed the business “Mon Ami Gabi” in last 1 year?\n",
    "\n",
    "#3. Records of all the users who have reviewed 'Mon Ami Gabi' in last 1 year\n",
    "\n",
    "import datetime\n",
    "df_r_MAG = df_r_b[(df_r_b['name']=='Mon Ami Gabi')&(df_r_b['date']> datetime.date(2017, 8, 8))]"
   ]
  },
  {
   "cell_type": "code",
   "execution_count": 276,
   "metadata": {},
   "outputs": [],
   "source": [
    "#3. Records of reviews and business located in Canada\n",
    "\n",
    "df_CA = df_r_b[df_r_b['postal_code'].str.contains('[A-Z]')]"
   ]
  },
  {
   "cell_type": "code",
   "execution_count": 277,
   "metadata": {},
   "outputs": [
    {
     "data": {
      "text/plain": [
       "44"
      ]
     },
     "execution_count": 277,
     "metadata": {},
     "output_type": "execute_result"
    }
   ],
   "source": [
    "#3. The number of users who reviewed the business “Mon Ami Gabi” in last 1 year and also reviewed business located in Canada\n",
    "\n",
    "unique_id = set(df_r_MAG['user_id'][df_r_MAG['user_id'].isin(df_CA['user_id'])])\n",
    "unique_id_count = len(unique_id)\n",
    "unique_id_count"
   ]
  },
  {
   "cell_type": "code",
   "execution_count": 307,
   "metadata": {},
   "outputs": [
    {
     "data": {
      "text/plain": [
       "user_id\n",
       "IQVBHPUprLiHCw99dkcO2A    1\n",
       "JywS1C7xAeI_eG970OpuHg    1\n",
       "WHe5tyJbVpkvO_3meMUrdg    1\n",
       "jZUpqurVtlrN2QrgLxQzZw    1\n",
       "Name: postal_code, dtype: int64"
      ]
     },
     "execution_count": 307,
     "metadata": {},
     "output_type": "execute_result"
    }
   ],
   "source": [
    "#3. Identify users based on how many times they've reviewed business in Canada\n",
    "\n",
    "df_3 = df_r_b[(df_r_b['user_id'].isin(df_r_MAG['user_id'])) & (df_r_b['user_id'].isin(df_CA['user_id']))]\n",
    "df_pos = df_3[['user_id','postal_code']]\n",
    "s_CA = df_pos[df_pos['postal_code'].str.contains('[A-Z]')].groupby('user_id')['postal_code'].count()\n",
    "s_CA1 = s_CA[s_CA==1]\n",
    "s_CA1"
   ]
  },
  {
   "cell_type": "code",
   "execution_count": 308,
   "metadata": {},
   "outputs": [
    {
     "data": {
      "text/plain": [
       "4"
      ]
     },
     "execution_count": 308,
     "metadata": {},
     "output_type": "execute_result"
    }
   ],
   "source": [
    "s_CA1.count()"
   ]
  },
  {
   "cell_type": "code",
   "execution_count": 309,
   "metadata": {},
   "outputs": [
    {
     "data": {
      "text/plain": [
       "12.0"
      ]
     },
     "execution_count": 309,
     "metadata": {},
     "output_type": "execute_result"
    }
   ],
   "source": [
    "#3. For users who reviewed business in Canada a few times\n",
    "\n",
    "s_CA2 = s_CA[(s_CA>1) & (s_CA<=10)]\n",
    "CA2_num = s_CA2.count()*0.5\n",
    "CA2_num"
   ]
  },
  {
   "cell_type": "code",
   "execution_count": 310,
   "metadata": {},
   "outputs": [
    {
     "data": {
      "text/plain": [
       "11.200000000000001"
      ]
     },
     "execution_count": 310,
     "metadata": {},
     "output_type": "execute_result"
    }
   ],
   "source": [
    "#3. For users who reviewed business in Canada many times\n",
    "\n",
    "s_CA3 = s_CA[(s_CA>10) & (s_CA<=100)]\n",
    "CA3_num = s_CA3.count()*0.8\n",
    "CA3_num "
   ]
  },
  {
   "cell_type": "code",
   "execution_count": 281,
   "metadata": {},
   "outputs": [
    {
     "data": {
      "text/plain": [
       "2"
      ]
     },
     "execution_count": 281,
     "metadata": {},
     "output_type": "execute_result"
    }
   ],
   "source": [
    "#3. For users who reviewed business in Canada more than 100 times\n",
    "\n",
    "s_CA4 = s_CA[s_CA>100]\n",
    "CA4_num = s_CA4.count()\n",
    "CA4_num"
   ]
  },
  {
   "cell_type": "code",
   "execution_count": 259,
   "metadata": {},
   "outputs": [
    {
     "data": {
      "text/plain": [
       "25.200000000000003"
      ]
     },
     "execution_count": 259,
     "metadata": {},
     "output_type": "execute_result"
    }
   ],
   "source": [
    "#3. Add up and see approximately how many Canadian residents reviewed 'Mon Ami Gabi' in last 1 year\n",
    "\n",
    "CA_num = CA2_num + CA3_num + CA4_num\n",
    "CA_num"
   ]
  },
  {
   "cell_type": "code",
   "execution_count": 314,
   "metadata": {},
   "outputs": [
    {
     "data": {
      "text/plain": [
       "[('the', 29813),\n",
       " ('and', 22424),\n",
       " ('I', 22120),\n",
       " ('to', 19176),\n",
       " ('a', 16331),\n",
       " ('is', 10989),\n",
       " ('of', 10544),\n",
       " ('was', 9655),\n",
       " ('in', 7829),\n",
       " ('for', 7554)]"
      ]
     },
     "execution_count": 314,
     "metadata": {},
     "output_type": "execute_result"
    }
   ],
   "source": [
    "#4. Top 10 most common words in the reviews of the business “Chipotle Mexican Grill”\n",
    "\n",
    "from collections import Counter\n",
    "Counter(\" \".join(df_r_b['text'][df_r_b['name']=='Chipotle Mexican Grill']).split()).most_common(10)"
   ]
  },
  {
   "cell_type": "code",
   "execution_count": 285,
   "metadata": {},
   "outputs": [
    {
     "data": {
      "text/plain": [
       "user_id\n",
       "--BumyUHiO_7YsHurb9Hkw     43\n",
       "--Qh8yKWAvIP4V4K8ZPfHA    378\n",
       "--UOvCH5qEgdNQ8lzR8QYQ     10\n",
       "--YhjyV-ce1nFLYxP49C5A     82\n",
       "-0AyZxS5C--WySnbW_Q8yQ     18\n",
       "-0kf3OEgFh6APiSedF4kbg     13\n",
       "-1MF2tosrw2WcCxeVNk81Q     10\n",
       "-1aYNZASC1lkA09LJtfNAA     13\n",
       "-1l27u1nHhe7F7AlheMIGQ     13\n",
       "-1wbglcr6x1qrUbqP1YAIA     30\n",
       "Name: review_id, dtype: int64"
      ]
     },
     "execution_count": 285,
     "metadata": {},
     "output_type": "execute_result"
    }
   ],
   "source": [
    "#5. What’s the percentage of users, who reviewed “Mon Ami Gabi”, and also reviewed at least 10 other restaurants located in Ontario?\n",
    "\n",
    "#5. Find users who reviewed at least 10 restaurants in ON\n",
    "\n",
    "df_ON = df_r_b[['user_id','review_id']][df_r_b['state']=='ON']\n",
    "s_ON = df_ON.groupby(['user_id'])['review_id'].count()\n",
    "s_10ON = s_ON[s_ON>=10]\n",
    "s_10ON.head(10)"
   ]
  },
  {
   "cell_type": "code",
   "execution_count": 286,
   "metadata": {},
   "outputs": [
    {
     "name": "stdout",
     "output_type": "stream",
     "text": [
      "0.89%\n"
     ]
    }
   ],
   "source": [
    "#5. Find users who reviewed 'Mon Ami Gabi' and calculate the percentage\n",
    "\n",
    "count_MAG = df_r_b['user_id'][df_r_b['name']=='Mon Ami Gabi'].count()\n",
    "s = df_r_b['user_id'][df_r_b['name']=='Mon Ami Gabi'].isin(s_10ON.index)\n",
    "count_ON10 = s[s == True].count()\n",
    "print('%.2f%%'%(float(count_ON10)/float(count_MAG)*100))"
   ]
  },
  {
   "cell_type": "code",
   "execution_count": 293,
   "metadata": {},
   "outputs": [
    {
     "data": {
      "text/html": [
       "<div>\n",
       "<style scoped>\n",
       "    .dataframe tbody tr th:only-of-type {\n",
       "        vertical-align: middle;\n",
       "    }\n",
       "\n",
       "    .dataframe tbody tr th {\n",
       "        vertical-align: top;\n",
       "    }\n",
       "\n",
       "    .dataframe thead th {\n",
       "        text-align: right;\n",
       "    }\n",
       "</style>\n",
       "<table border=\"1\" class=\"dataframe\">\n",
       "  <thead>\n",
       "    <tr style=\"text-align: right;\">\n",
       "      <th></th>\n",
       "      <th>business_id</th>\n",
       "      <th>city</th>\n",
       "      <th>neighborhood</th>\n",
       "      <th>name</th>\n",
       "      <th>longitude</th>\n",
       "      <th>state</th>\n",
       "      <th>postal_code</th>\n",
       "      <th>categories</th>\n",
       "      <th>stars</th>\n",
       "      <th>address</th>\n",
       "      <th>latitude</th>\n",
       "      <th>review_count</th>\n",
       "      <th>is_open</th>\n",
       "      <th>popularity</th>\n",
       "    </tr>\n",
       "  </thead>\n",
       "  <tbody>\n",
       "    <tr>\n",
       "      <th>0</th>\n",
       "      <td>Apn5Q_b6Nz61Tq4XzPdf9A</td>\n",
       "      <td>Calgary</td>\n",
       "      <td></td>\n",
       "      <td>Minhas Micro Brewery</td>\n",
       "      <td>-114.031675</td>\n",
       "      <td>AB</td>\n",
       "      <td>T2E 6L6</td>\n",
       "      <td>Tours Breweries Pizza Restaurants Food Hotels ...</td>\n",
       "      <td>4.0</td>\n",
       "      <td>1314 44 Avenue NE</td>\n",
       "      <td>51.091813</td>\n",
       "      <td>24</td>\n",
       "      <td>1</td>\n",
       "      <td>96.0</td>\n",
       "    </tr>\n",
       "    <tr>\n",
       "      <th>1</th>\n",
       "      <td>AjEbIBw6ZFfln7ePHha9PA</td>\n",
       "      <td>Henderson</td>\n",
       "      <td></td>\n",
       "      <td>CK'S BBQ &amp; Catering</td>\n",
       "      <td>-114.939821</td>\n",
       "      <td>NV</td>\n",
       "      <td>89002</td>\n",
       "      <td>Chicken Wings Burgers Caterers Street Vendors ...</td>\n",
       "      <td>4.5</td>\n",
       "      <td></td>\n",
       "      <td>35.960734</td>\n",
       "      <td>3</td>\n",
       "      <td>0</td>\n",
       "      <td>13.5</td>\n",
       "    </tr>\n",
       "    <tr>\n",
       "      <th>2</th>\n",
       "      <td>O8S5hYJ1SMc8fA4QBtVujA</td>\n",
       "      <td>Montral</td>\n",
       "      <td>Rosemont-La Petite-Patrie</td>\n",
       "      <td>La Bastringue</td>\n",
       "      <td>-73.599300</td>\n",
       "      <td>QC</td>\n",
       "      <td>H2G 1K7</td>\n",
       "      <td>Breakfast &amp; Brunch Restaurants French Sandwich...</td>\n",
       "      <td>4.0</td>\n",
       "      <td>1335 rue Beaubien E</td>\n",
       "      <td>45.540503</td>\n",
       "      <td>5</td>\n",
       "      <td>0</td>\n",
       "      <td>20.0</td>\n",
       "    </tr>\n",
       "    <tr>\n",
       "      <th>3</th>\n",
       "      <td>bFzdJJ3wp3PZssNEsyU23g</td>\n",
       "      <td>Phoenix</td>\n",
       "      <td></td>\n",
       "      <td>Geico Insurance</td>\n",
       "      <td>-112.076979</td>\n",
       "      <td>AZ</td>\n",
       "      <td>85003</td>\n",
       "      <td>Insurance Financial Services</td>\n",
       "      <td>1.5</td>\n",
       "      <td>211 W Monroe St</td>\n",
       "      <td>33.449999</td>\n",
       "      <td>8</td>\n",
       "      <td>1</td>\n",
       "      <td>12.0</td>\n",
       "    </tr>\n",
       "    <tr>\n",
       "      <th>4</th>\n",
       "      <td>8USyCYqpScwiNEb58Bt6CA</td>\n",
       "      <td>Calgary</td>\n",
       "      <td></td>\n",
       "      <td>Action Engine</td>\n",
       "      <td>-114.027366</td>\n",
       "      <td>AB</td>\n",
       "      <td>T2H 0N5</td>\n",
       "      <td>Home &amp; Garden Nurseries &amp; Gardening Shopping L...</td>\n",
       "      <td>2.0</td>\n",
       "      <td>2005 Alyth Place SE</td>\n",
       "      <td>51.035591</td>\n",
       "      <td>4</td>\n",
       "      <td>1</td>\n",
       "      <td>8.0</td>\n",
       "    </tr>\n",
       "  </tbody>\n",
       "</table>\n",
       "</div>"
      ],
      "text/plain": [
       "              business_id       city               neighborhood  \\\n",
       "0  Apn5Q_b6Nz61Tq4XzPdf9A    Calgary                              \n",
       "1  AjEbIBw6ZFfln7ePHha9PA  Henderson                              \n",
       "2  O8S5hYJ1SMc8fA4QBtVujA    Montral  Rosemont-La Petite-Patrie   \n",
       "3  bFzdJJ3wp3PZssNEsyU23g    Phoenix                              \n",
       "4  8USyCYqpScwiNEb58Bt6CA    Calgary                              \n",
       "\n",
       "                   name   longitude state postal_code  \\\n",
       "0  Minhas Micro Brewery -114.031675    AB     T2E 6L6   \n",
       "1   CK'S BBQ & Catering -114.939821    NV       89002   \n",
       "2         La Bastringue  -73.599300    QC     H2G 1K7   \n",
       "3       Geico Insurance -112.076979    AZ       85003   \n",
       "4         Action Engine -114.027366    AB     T2H 0N5   \n",
       "\n",
       "                                          categories  stars  \\\n",
       "0  Tours Breweries Pizza Restaurants Food Hotels ...    4.0   \n",
       "1  Chicken Wings Burgers Caterers Street Vendors ...    4.5   \n",
       "2  Breakfast & Brunch Restaurants French Sandwich...    4.0   \n",
       "3                       Insurance Financial Services    1.5   \n",
       "4  Home & Garden Nurseries & Gardening Shopping L...    2.0   \n",
       "\n",
       "               address   latitude  review_count  is_open  popularity  \n",
       "0    1314 44 Avenue NE  51.091813            24        1        96.0  \n",
       "1                       35.960734             3        0        13.5  \n",
       "2  1335 rue Beaubien E  45.540503             5        0        20.0  \n",
       "3      211 W Monroe St  33.449999             8        1        12.0  \n",
       "4  2005 Alyth Place SE  51.035591             4        1         8.0  "
      ]
     },
     "execution_count": 293,
     "metadata": {},
     "output_type": "execute_result"
    }
   ],
   "source": [
    "#6.1 Which states should I start or expand my business in the US and in Canada?\n",
    "\n",
    "df_b1 = df_b.copy()\n",
    "df_b1['popularity'] = df_b1['stars']*df_b1['review_count']\n",
    "df_b1.head()"
   ]
  },
  {
   "cell_type": "code",
   "execution_count": 321,
   "metadata": {},
   "outputs": [
    {
     "data": {
      "text/plain": [
       "state\n",
       "NV    210.338088\n",
       "AZ    126.016582\n",
       "NC     94.204330\n",
       "WI     90.310799\n",
       "PA     89.423642\n",
       "ON     77.586349\n",
       "OH     72.986343\n",
       "IL     72.122471\n",
       "QC     71.299781\n",
       "FL     68.000000\n",
       "Name: popularity, dtype: float64"
      ]
     },
     "execution_count": 321,
     "metadata": {},
     "output_type": "execute_result"
    }
   ],
   "source": [
    "#6.1 Top 20 popular states in US and Canada \n",
    "\n",
    "s_states = df_b1.groupby(['state'])['popularity'].mean()\n",
    "s_states.sort_values(ascending = False).head(10)"
   ]
  },
  {
   "cell_type": "code",
   "execution_count": 323,
   "metadata": {},
   "outputs": [
    {
     "data": {
      "text/html": [
       "<div>\n",
       "<style scoped>\n",
       "    .dataframe tbody tr th:only-of-type {\n",
       "        vertical-align: middle;\n",
       "    }\n",
       "\n",
       "    .dataframe tbody tr th {\n",
       "        vertical-align: top;\n",
       "    }\n",
       "\n",
       "    .dataframe thead th {\n",
       "        text-align: right;\n",
       "    }\n",
       "</style>\n",
       "<table border=\"1\" class=\"dataframe\">\n",
       "  <thead>\n",
       "    <tr style=\"text-align: right;\">\n",
       "      <th></th>\n",
       "      <th>business_id</th>\n",
       "      <th>city</th>\n",
       "      <th>neighborhood</th>\n",
       "      <th>name</th>\n",
       "      <th>longitude</th>\n",
       "      <th>state</th>\n",
       "      <th>postal_code</th>\n",
       "      <th>categories</th>\n",
       "      <th>stars</th>\n",
       "      <th>address</th>\n",
       "      <th>latitude</th>\n",
       "      <th>review_count</th>\n",
       "      <th>is_open</th>\n",
       "      <th>popularity</th>\n",
       "    </tr>\n",
       "  </thead>\n",
       "  <tbody>\n",
       "    <tr>\n",
       "      <th>137630</th>\n",
       "      <td>4JNXUYY8wbaaDmk3BPzlWw</td>\n",
       "      <td>Las Vegas</td>\n",
       "      <td>The Strip</td>\n",
       "      <td>Mon Ami Gabi</td>\n",
       "      <td>-115.172582</td>\n",
       "      <td>NV</td>\n",
       "      <td>89109</td>\n",
       "      <td>Steakhouses Breakfast &amp; Brunch Restaurants French</td>\n",
       "      <td>4.0</td>\n",
       "      <td>3655 Las Vegas Blvd S</td>\n",
       "      <td>36.112827</td>\n",
       "      <td>7968</td>\n",
       "      <td>1</td>\n",
       "      <td>31872.0</td>\n",
       "    </tr>\n",
       "    <tr>\n",
       "      <th>62720</th>\n",
       "      <td>K7lWdNUhCbcnEvI0NhGewg</td>\n",
       "      <td>Las Vegas</td>\n",
       "      <td>The Strip</td>\n",
       "      <td>Wicked Spoon</td>\n",
       "      <td>-115.176155</td>\n",
       "      <td>NV</td>\n",
       "      <td>89109</td>\n",
       "      <td>Buffets Restaurants Breakfast &amp; Brunch</td>\n",
       "      <td>3.5</td>\n",
       "      <td>3708 Las Vegas Blvd S</td>\n",
       "      <td>36.109550</td>\n",
       "      <td>6446</td>\n",
       "      <td>1</td>\n",
       "      <td>22561.0</td>\n",
       "    </tr>\n",
       "    <tr>\n",
       "      <th>177567</th>\n",
       "      <td>DkYS3arLOhA8si5uUEmHOw</td>\n",
       "      <td>Las Vegas</td>\n",
       "      <td>The Strip</td>\n",
       "      <td>Earl of Sandwich</td>\n",
       "      <td>-115.171869</td>\n",
       "      <td>NV</td>\n",
       "      <td>89109</td>\n",
       "      <td>Sandwiches Wraps Food Caterers Restaurants Sou...</td>\n",
       "      <td>4.5</td>\n",
       "      <td>3667 Las Vegas Blvd S</td>\n",
       "      <td>36.109443</td>\n",
       "      <td>4981</td>\n",
       "      <td>1</td>\n",
       "      <td>22414.5</td>\n",
       "    </tr>\n",
       "    <tr>\n",
       "      <th>170123</th>\n",
       "      <td>f4x1YBxkLrZg652xt2KR5g</td>\n",
       "      <td>Las Vegas</td>\n",
       "      <td>The Strip</td>\n",
       "      <td>Hash House A Go Go</td>\n",
       "      <td>-115.171580</td>\n",
       "      <td>NV</td>\n",
       "      <td>89109</td>\n",
       "      <td>Breakfast &amp; Brunch American (New) Restaurants</td>\n",
       "      <td>4.0</td>\n",
       "      <td>3535 Las Vegas Blvd</td>\n",
       "      <td>36.118181</td>\n",
       "      <td>5382</td>\n",
       "      <td>1</td>\n",
       "      <td>21528.0</td>\n",
       "    </tr>\n",
       "    <tr>\n",
       "      <th>96847</th>\n",
       "      <td>hihud--QRriCYZw1zZvW4g</td>\n",
       "      <td>Las Vegas</td>\n",
       "      <td>Eastside</td>\n",
       "      <td>Gangnam Asian BBQ Dining</td>\n",
       "      <td>-115.151261</td>\n",
       "      <td>NV</td>\n",
       "      <td>89169</td>\n",
       "      <td>Asian Fusion Barbeque Korean Japanese Restaura...</td>\n",
       "      <td>4.5</td>\n",
       "      <td>4480 Paradise Rd Ste 600</td>\n",
       "      <td>36.108898</td>\n",
       "      <td>3731</td>\n",
       "      <td>1</td>\n",
       "      <td>16789.5</td>\n",
       "    </tr>\n",
       "  </tbody>\n",
       "</table>\n",
       "</div>"
      ],
      "text/plain": [
       "                   business_id       city neighborhood  \\\n",
       "137630  4JNXUYY8wbaaDmk3BPzlWw  Las Vegas    The Strip   \n",
       "62720   K7lWdNUhCbcnEvI0NhGewg  Las Vegas    The Strip   \n",
       "177567  DkYS3arLOhA8si5uUEmHOw  Las Vegas    The Strip   \n",
       "170123  f4x1YBxkLrZg652xt2KR5g  Las Vegas    The Strip   \n",
       "96847   hihud--QRriCYZw1zZvW4g  Las Vegas     Eastside   \n",
       "\n",
       "                            name   longitude state postal_code  \\\n",
       "137630              Mon Ami Gabi -115.172582    NV       89109   \n",
       "62720               Wicked Spoon -115.176155    NV       89109   \n",
       "177567          Earl of Sandwich -115.171869    NV       89109   \n",
       "170123        Hash House A Go Go -115.171580    NV       89109   \n",
       "96847   Gangnam Asian BBQ Dining -115.151261    NV       89169   \n",
       "\n",
       "                                               categories  stars  \\\n",
       "137630  Steakhouses Breakfast & Brunch Restaurants French    4.0   \n",
       "62720              Buffets Restaurants Breakfast & Brunch    3.5   \n",
       "177567  Sandwiches Wraps Food Caterers Restaurants Sou...    4.5   \n",
       "170123      Breakfast & Brunch American (New) Restaurants    4.0   \n",
       "96847   Asian Fusion Barbeque Korean Japanese Restaura...    4.5   \n",
       "\n",
       "                         address   latitude  review_count  is_open  popularity  \n",
       "137630     3655 Las Vegas Blvd S  36.112827          7968        1     31872.0  \n",
       "62720      3708 Las Vegas Blvd S  36.109550          6446        1     22561.0  \n",
       "177567     3667 Las Vegas Blvd S  36.109443          4981        1     22414.5  \n",
       "170123       3535 Las Vegas Blvd  36.118181          5382        1     21528.0  \n",
       "96847   4480 Paradise Rd Ste 600  36.108898          3731        1     16789.5  "
      ]
     },
     "execution_count": 323,
     "metadata": {},
     "output_type": "execute_result"
    }
   ],
   "source": [
    "#6.2 Which neighborhood should I start or expand my business in NV?\n",
    "\n",
    "df_sorted = df_b1[df_b1['state']=='NV'].sort_values(by = ['popularity'],ascending = False)\n",
    "df_sorted_50 = df_sorted.head(50)\n",
    "df_sorted_50.head()"
   ]
  },
  {
   "cell_type": "code",
   "execution_count": 324,
   "metadata": {},
   "outputs": [
    {
     "data": {
      "text/plain": [
       "neighborhood\n",
       "The Strip        12991.467742\n",
       "Southeast        12591.750000\n",
       "Eastside         12568.750000\n",
       "Westside         11874.333333\n",
       "Downtown         10101.375000\n",
       "Chinatown         9985.500000\n",
       "                  9738.500000\n",
       "Spring Valley     9288.000000\n",
       "Name: popularity, dtype: float64"
      ]
     },
     "execution_count": 324,
     "metadata": {},
     "output_type": "execute_result"
    }
   ],
   "source": [
    "#6.2 Grouped by neighborhood\n",
    "\n",
    "s_neighborhood = df_sorted_50.groupby(['neighborhood'])['popularity'].mean().sort_values(ascending=False)\n",
    "s_neighborhood"
   ]
  },
  {
   "cell_type": "code",
   "execution_count": 325,
   "metadata": {},
   "outputs": [
    {
     "name": "stdout",
     "output_type": "stream",
     "text": [
      "[('&', 54), ('Restaurants', 38), ('American', 27), ('Hotels', 23), ('(New)', 16), ('Services', 15), ('Event', 15), ('Food', 15), ('Bars', 14), ('Planning', 13)]\n"
     ]
    }
   ],
   "source": [
    "#6.3 Which categories should I start or expand my business?\n",
    "\n",
    "print Counter(\" \".join(df_sorted_50['categories']).split()).most_common(10)"
   ]
  },
  {
   "cell_type": "code",
   "execution_count": 298,
   "metadata": {},
   "outputs": [],
   "source": [
    "#Section 2.2\n",
    "#predicting stars based on review texts\n",
    "#get star list\n",
    "\n",
    "stars = df_r['stars'].tolist()"
   ]
  },
  {
   "cell_type": "code",
   "execution_count": 299,
   "metadata": {},
   "outputs": [
    {
     "name": "stdout",
     "output_type": "stream",
     "text": [
      "Counter({5: 2641880, 4: 1335957, 1: 858139, 3: 673206, 2: 487813, 0: 1})\n"
     ]
    }
   ],
   "source": [
    "print(Counter(stars))"
   ]
  },
  {
   "cell_type": "code",
   "execution_count": 301,
   "metadata": {},
   "outputs": [],
   "source": [
    "#Balance the data first\n",
    "\n",
    "df_new = df_r.copy()   \n",
    "max_num = 487813\n",
    "df_5 = df_new[df_new['stars']==5].head(487813)\n",
    "df_4 = df_new[df_new['stars']==4].head(487813)\n",
    "df_3 = df_new[df_new['stars']==3].head(487813)\n",
    "df_2 = df_new[df_new['stars']==2].head(487813)\n",
    "df_1 = df_new[df_new['stars']==1].head(487813)\n",
    "df_balanced = pd.concat([df_5,df_4,df_3,df_2,df_1])"
   ]
  },
  {
   "cell_type": "code",
   "execution_count": 303,
   "metadata": {},
   "outputs": [
    {
     "data": {
      "text/plain": [
       "Counter({1: 487813, 2: 487813, 3: 487813, 4: 487813, 5: 487813})"
      ]
     },
     "execution_count": 303,
     "metadata": {},
     "output_type": "execute_result"
    }
   ],
   "source": [
    "#Data has been balanced\n",
    "\n",
    "Counter(df_balanced['stars'].tolist())"
   ]
  },
  {
   "cell_type": "code",
   "execution_count": 304,
   "metadata": {},
   "outputs": [],
   "source": [
    "#Text data vectorization\n",
    "#The vectorizer breaks text into single words and bi-grams, and then calculates the TF-IDF representation\n",
    "\n",
    "from sklearn.feature_extraction.text import TfidfVectorizer\n",
    "vectorizer = TfidfVectorizer(ngram_range = (1,2))\n",
    "vectors = vectorizer.fit_transform(df_balanced['text'])"
   ]
  },
  {
   "cell_type": "code",
   "execution_count": 305,
   "metadata": {},
   "outputs": [],
   "source": [
    "#Train-test split\n",
    "\n",
    "from sklearn.model_selection import train_test_split\n",
    "X_train, X_test, y_train, y_test = train_test_split(vectors, df_balanced['stars'], test_size = 0.33, random_state = 42)"
   ]
  },
  {
   "cell_type": "code",
   "execution_count": 306,
   "metadata": {},
   "outputs": [
    {
     "data": {
      "text/plain": [
       "LinearSVC(C=1.0, class_weight=None, dual=True, fit_intercept=True,\n",
       "     intercept_scaling=1, loss='squared_hinge', max_iter=1000,\n",
       "     multi_class='ovr', penalty='l2', random_state=None, tol=0.0001,\n",
       "     verbose=0)"
      ]
     },
     "execution_count": 306,
     "metadata": {},
     "output_type": "execute_result"
    }
   ],
   "source": [
    "#Fitting a classifier\n",
    "\n",
    "from sklearn.svm import LinearSVC\n",
    "classifier = LinearSVC()\n",
    "classifier.fit(X_train, y_train)"
   ]
  },
  {
   "cell_type": "code",
   "execution_count": 316,
   "metadata": {},
   "outputs": [
    {
     "name": "stdout",
     "output_type": "stream",
     "text": [
      "[5, 5, 1, 4, 5, 4, 2, 5, 4, 3, 5, 4, 1, 4, 4, 4, 5, 4, 2, 2]\n",
      "[5, 5, 1, 4, 5, 4, 4, 5, 4, 3, 5, 4, 1, 3, 4, 3, 5, 4, 3, 3]\n"
     ]
    }
   ],
   "source": [
    "#Use the fitted model to make predictions \n",
    "\n",
    "prediction = classifier.predict(X_test)\n",
    "print(list(prediction[:20]))\n",
    "print(list(y_test[:20]))"
   ]
  },
  {
   "cell_type": "code",
   "execution_count": 317,
   "metadata": {},
   "outputs": [
    {
     "data": {
      "text/plain": [
       "0.6327395476660223"
      ]
     },
     "execution_count": 317,
     "metadata": {},
     "output_type": "execute_result"
    }
   ],
   "source": [
    "#Evaluate the performance of the classifier using accuracy score\n",
    "\n",
    "from sklearn.metrics import accuracy_score\n",
    "accuracy_score(y_test,prediction)"
   ]
  },
  {
   "cell_type": "code",
   "execution_count": 330,
   "metadata": {},
   "outputs": [
    {
     "name": "stdout",
     "output_type": "stream",
     "text": [
      "             precision    recall  f1-score   support\n",
      "\n",
      "          1       0.73      0.79      0.76    161144\n",
      "          2       0.56      0.53      0.54    161330\n",
      "          3       0.55      0.51      0.53    160830\n",
      "          4       0.57      0.56      0.56    160835\n",
      "          5       0.74      0.78      0.76    160753\n",
      "\n",
      "avg / total       0.63      0.63      0.63    804892\n",
      "\n"
     ]
    }
   ],
   "source": [
    "#Evaluate the performance of the classifier using precision(false-negative) and recall(false-positive)\n",
    "\n",
    "from sklearn.metrics import classification_report\n",
    "print(classification_report(y_test,prediction))"
   ]
  },
  {
   "cell_type": "code",
   "execution_count": 331,
   "metadata": {},
   "outputs": [
    {
     "name": "stdout",
     "output_type": "stream",
     "text": [
      "[[127107  28055   4109    878    995]\n",
      " [ 37383  84742  33057   4651   1497]\n",
      " [  7612  33846  82455  32242   4675]\n",
      " [  1574   4559  27946  89977  36779]\n",
      " [  1111    801   3170  30665 125006]]\n"
     ]
    }
   ],
   "source": [
    "# Use confusion matrix for evaluating which predictions are often confused\n",
    "\n",
    "from sklearn.metrics import confusion_matrix\n",
    "print(confusion_matrix(y_test,prediction))"
   ]
  }
 ],
 "metadata": {
  "kernelspec": {
   "display_name": "Python 2",
   "language": "python",
   "name": "python2"
  }
 },
 "nbformat": 4,
 "nbformat_minor": 2
}
